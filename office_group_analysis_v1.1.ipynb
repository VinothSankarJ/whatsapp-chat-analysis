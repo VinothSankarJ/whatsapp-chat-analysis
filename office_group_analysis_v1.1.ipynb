{
 "cells": [
  {
   "cell_type": "code",
   "execution_count": 1,
   "id": "46ea86a5-5522-4dd0-a100-b7b2f9fd63e7",
   "metadata": {},
   "outputs": [],
   "source": [
    "import pandas as pd\n",
    "import re\n",
    "import matplotlib.pyplot as plt\n",
    "import seaborn as sns\n",
    "from nltk.sentiment import SentimentIntensityAnalyzer\n"
   ]
  },
  {
   "cell_type": "markdown",
   "id": "4bb289ef-f766-4484-97bd-64bc0972b08b",
   "metadata": {},
   "source": [
    "# Load Data"
   ]
  },
  {
   "cell_type": "code",
   "execution_count": 2,
   "id": "c059d725-549a-4100-a7e1-54fd0c70d3f0",
   "metadata": {},
   "outputs": [],
   "source": [
    "file_path = \"office_group.txt\"\n",
    "with open(file_path, 'r', encoding='utf-8') as file:\n",
    "    lines = file.readlines()"
   ]
  },
  {
   "cell_type": "markdown",
   "id": "ac16e4ff-07d9-4289-bef9-324400d9e180",
   "metadata": {},
   "source": [
    "# Extract Date, Time, Name, and Message"
   ]
  },
  {
   "cell_type": "code",
   "execution_count": 3,
   "id": "0127356b-73b5-4ca1-a14b-7da8e1146f97",
   "metadata": {},
   "outputs": [],
   "source": [
    "data = []\n",
    "pattern = r'^(\\d{1,2}/\\d{1,2}/\\d{2,4}), (\\d{1,2}:\\d{2} [APM]{2}) - (.*?): (.*)$'\n",
    "for line in lines:\n",
    "    match = re.match(pattern, line.strip())\n",
    "    if match:\n",
    "        date, time, name, message = match.groups()\n",
    "        data.append([date, time, name, message])"
   ]
  },
  {
   "cell_type": "markdown",
   "id": "345bb717-e387-431f-af99-07fd92b79f6e",
   "metadata": {},
   "source": [
    "# Create DataFrame"
   ]
  },
  {
   "cell_type": "code",
   "execution_count": 4,
   "id": "2a0c0b4d-9f33-48b2-82ae-cd2bdb322c1b",
   "metadata": {},
   "outputs": [],
   "source": [
    "df = pd.DataFrame(data, columns=[\"Date\", \"Time\", \"Name\", \"Message\"])"
   ]
  },
  {
   "cell_type": "markdown",
   "id": "191a3bb4-f8ee-440c-b800-47064876fcb7",
   "metadata": {},
   "source": [
    "# Display first 5 rows"
   ]
  },
  {
   "cell_type": "code",
   "execution_count": 5,
   "id": "9863748c-8117-4fbf-b93e-dd50ac853dcf",
   "metadata": {},
   "outputs": [
    {
     "data": {
      "text/html": [
       "<div>\n",
       "<style scoped>\n",
       "    .dataframe tbody tr th:only-of-type {\n",
       "        vertical-align: middle;\n",
       "    }\n",
       "\n",
       "    .dataframe tbody tr th {\n",
       "        vertical-align: top;\n",
       "    }\n",
       "\n",
       "    .dataframe thead th {\n",
       "        text-align: right;\n",
       "    }\n",
       "</style>\n",
       "<table border=\"1\" class=\"dataframe\">\n",
       "  <thead>\n",
       "    <tr style=\"text-align: right;\">\n",
       "      <th></th>\n",
       "      <th>Date</th>\n",
       "      <th>Time</th>\n",
       "      <th>Name</th>\n",
       "      <th>Message</th>\n",
       "    </tr>\n",
       "  </thead>\n",
       "  <tbody>\n",
       "  </tbody>\n",
       "</table>\n",
       "</div>"
      ],
      "text/plain": [
       "Empty DataFrame\n",
       "Columns: [Date, Time, Name, Message]\n",
       "Index: []"
      ]
     },
     "execution_count": 5,
     "metadata": {},
     "output_type": "execute_result"
    }
   ],
   "source": [
    "df.head()"
   ]
  },
  {
   "cell_type": "markdown",
   "id": "92403f90-f3c9-44b0-b5ec-46abe96c8ffc",
   "metadata": {},
   "source": [
    "# Sentiment Analysis Function"
   ]
  },
  {
   "cell_type": "code",
   "execution_count": 6,
   "id": "ad088d8f-75a4-4cd7-8272-37463e8bc03d",
   "metadata": {},
   "outputs": [],
   "source": [
    "def sentimental_analysis(data, columnname='Message'):\n",
    "    sid = SentimentIntensityAnalyzer()\n",
    "    data = data.dropna()\n",
    "    data['scores'] = data[columnname].apply(lambda text: sid.polarity_scores(text))\n",
    "    data['compound'] = data['scores'].apply(lambda score: score['compound'])\n",
    "    data['Sentiment'] = data['compound'].apply(lambda x: 'Positive' if x > 0 else ('Negative' if x < 0 else 'Neutral'))\n",
    "    return data['Sentiment'].value_counts(), data"
   ]
  },
  {
   "cell_type": "markdown",
   "id": "fbf9283d-1840-435b-ae20-0dc2442a17ca",
   "metadata": {},
   "source": [
    "# Perform Sentiment Analysis"
   ]
  },
  {
   "cell_type": "code",
   "execution_count": 7,
   "id": "be930c32-b465-46da-ba71-d1755e7d413f",
   "metadata": {},
   "outputs": [],
   "source": [
    "pos, data_Senti = sentimental_analysis(df, columnname='Message')"
   ]
  },
  {
   "cell_type": "markdown",
   "id": "be1cf2d3-0a20-4720-843d-8e14ac19c4b1",
   "metadata": {},
   "source": [
    "# Display Sentiment Data"
   ]
  },
  {
   "cell_type": "code",
   "execution_count": 8,
   "id": "2685b872-79c2-4d67-b744-066a4b389246",
   "metadata": {},
   "outputs": [
    {
     "data": {
      "text/html": [
       "<div>\n",
       "<style scoped>\n",
       "    .dataframe tbody tr th:only-of-type {\n",
       "        vertical-align: middle;\n",
       "    }\n",
       "\n",
       "    .dataframe tbody tr th {\n",
       "        vertical-align: top;\n",
       "    }\n",
       "\n",
       "    .dataframe thead th {\n",
       "        text-align: right;\n",
       "    }\n",
       "</style>\n",
       "<table border=\"1\" class=\"dataframe\">\n",
       "  <thead>\n",
       "    <tr style=\"text-align: right;\">\n",
       "      <th></th>\n",
       "      <th>Date</th>\n",
       "      <th>Time</th>\n",
       "      <th>Name</th>\n",
       "      <th>Message</th>\n",
       "      <th>scores</th>\n",
       "      <th>compound</th>\n",
       "      <th>Sentiment</th>\n",
       "    </tr>\n",
       "  </thead>\n",
       "  <tbody>\n",
       "  </tbody>\n",
       "</table>\n",
       "</div>"
      ],
      "text/plain": [
       "Empty DataFrame\n",
       "Columns: [Date, Time, Name, Message, scores, compound, Sentiment]\n",
       "Index: []"
      ]
     },
     "execution_count": 8,
     "metadata": {},
     "output_type": "execute_result"
    }
   ],
   "source": [
    "data_Senti.head()"
   ]
  },
  {
   "cell_type": "markdown",
   "id": "625a2619-5c0a-453a-bd30-38c8bb8ec89c",
   "metadata": {},
   "source": [
    "# Plot Sentiment Distribution"
   ]
  },
  {
   "cell_type": "code",
   "execution_count": 9,
   "id": "d1dc88f3-fb57-46a0-9e86-cbb732b8e14d",
   "metadata": {},
   "outputs": [
    {
     "data": {
      "image/png": "[encoded data removed]",
      "text/plain": [
       "<Figure size 600x400 with 1 Axes>"
      ]
     },
     "metadata": {},
     "output_type": "display_data"
    }
   ],
   "source": [
    "plt.figure(figsize=(6, 4))\n",
    "sns.barplot(x=pos.index, y=pos.values, palette=['#2ca02c', '#d62728', '#1f77b4'])\n",
    "plt.title('Sentiment Analysis of Messages')\n",
    "plt.xlabel('Sentiment')\n",
    "plt.ylabel('Count')\n",
    "plt.show()"
   ]
  },
  {
   "cell_type": "markdown",
   "id": "da4be1a8-9bc2-4ec2-8f23-ee256e582d92",
   "metadata": {},
   "source": [
    "# Find Missed Calls"
   ]
  },
  {
   "cell_type": "code",
   "execution_count": 10,
   "id": "65e2aa0a-eb29-4cac-8e49-16826bb85acd",
   "metadata": {},
   "outputs": [],
   "source": [
    "missed_call_placeholder = 'Missed call'\n",
    "missed_calls = df[df['Message'].str.contains(missed_call_placeholder, na=False)]\n",
    "missed_call_counts = missed_calls['Name'].value_counts()"
   ]
  },
  {
   "cell_type": "markdown",
   "id": "47d4d331-011c-4451-9d2b-cb886f00ec3b",
   "metadata": {},
   "source": [
    "# Display Missed Calls Data"
   ]
  },
  {
   "cell_type": "code",
   "execution_count": 11,
   "id": "6b88b1d5-bfe5-443b-a964-1a21edc7ed8e",
   "metadata": {},
   "outputs": [
    {
     "data": {
      "text/html": [
       "<div>\n",
       "<style scoped>\n",
       "    .dataframe tbody tr th:only-of-type {\n",
       "        vertical-align: middle;\n",
       "    }\n",
       "\n",
       "    .dataframe tbody tr th {\n",
       "        vertical-align: top;\n",
       "    }\n",
       "\n",
       "    .dataframe thead th {\n",
       "        text-align: right;\n",
       "    }\n",
       "</style>\n",
       "<table border=\"1\" class=\"dataframe\">\n",
       "  <thead>\n",
       "    <tr style=\"text-align: right;\">\n",
       "      <th></th>\n",
       "      <th>Date</th>\n",
       "      <th>Time</th>\n",
       "      <th>Name</th>\n",
       "      <th>Message</th>\n",
       "    </tr>\n",
       "  </thead>\n",
       "  <tbody>\n",
       "  </tbody>\n",
       "</table>\n",
       "</div>"
      ],
      "text/plain": [
       "Empty DataFrame\n",
       "Columns: [Date, Time, Name, Message]\n",
       "Index: []"
      ]
     },
     "execution_count": 11,
     "metadata": {},
     "output_type": "execute_result"
    }
   ],
   "source": [
    "missed_calls.head()"
   ]
  },
  {
   "cell_type": "markdown",
   "id": "ab67de49-6458-4d4e-af9e-782162b0964f",
   "metadata": {},
   "source": [
    "# Plot Missed Calls"
   ]
  },
  {
   "cell_type": "code",
   "execution_count": 12,
   "id": "b9a33790-c4c9-4b5a-a6ea-53b1675caffd",
   "metadata": {},
   "outputs": [
    {
     "name": "stdout",
     "output_type": "stream",
     "text": [
      "No missed calls found in the dataset.\n"
     ]
    }
   ],
   "source": [
    "if not missed_call_counts.empty:\n",
    "    plt.figure(figsize=(8, 5))\n",
    "    missed_call_counts.plot(kind='bar', color='orange')\n",
    "    plt.title('Missed Calls by User')\n",
    "    plt.xlabel('User')\n",
    "    plt.ylabel('Missed Call Count')\n",
    "    plt.show()\n",
    "else:\n",
    "    print(\"No missed calls found in the dataset.\")"
   ]
  },
  {
   "cell_type": "markdown",
   "id": "e389af77-73be-4497-b565-729ed189aa81",
   "metadata": {},
   "source": [
    "# Flirty Words List"
   ]
  },
  {
   "cell_type": "code",
   "execution_count": 13,
   "id": "795a6285-4b14-43ee-8c0d-030fe9eed275",
   "metadata": {},
   "outputs": [],
   "source": [
    "flirty_keywords = [\n",
    "    \"baby\", \"babe\", \"sweetheart\", \"cutie\", \"handsome\", \"gorgeous\", \"hot\",\n",
    "    \"darling\", \"dear\", \"love\", \"kiss\", \"hug\", \"😘\", \"😍\", \"💋\", \"❤️\", \"date\",\n",
    "    \"romantic\", \"beautiful\", \"wink\", \"sugar\", \"honey\", \"flirt\"\n",
    "]"
   ]
  },
  {
   "cell_type": "markdown",
   "id": "9f362aea-6bfd-41a5-b0bb-4e8f5f9ee26f",
   "metadata": {},
   "source": [
    "# Function to Detect Flirty Messages"
   ]
  },
  {
   "cell_type": "code",
   "execution_count": 14,
   "id": "f5f9af6e-26e5-4717-86ae-8be281057b57",
   "metadata": {},
   "outputs": [],
   "source": [
    "def detect_flirty_messages(data, columnname='Message'):\n",
    "    data['Flirty'] = data[columnname].apply(\n",
    "        lambda x: any(word.lower() in x.lower() for word in flirty_keywords)\n",
    "    )\n",
    "    return data"
   ]
  },
  {
   "cell_type": "markdown",
   "id": "135ad0c7-745f-4f38-93a1-3b89d3d7fce8",
   "metadata": {},
   "source": [
    "# Apply Flirty Detection"
   ]
  },
  {
   "cell_type": "code",
   "execution_count": 15,
   "id": "db12a00e-4aab-448a-a2e0-4aa999735b9d",
   "metadata": {},
   "outputs": [],
   "source": [
    "df = detect_flirty_messages(df, columnname='Message')"
   ]
  },
  {
   "cell_type": "markdown",
   "id": "c5292875-2aea-4fcb-8b1f-5b6f9f8cad06",
   "metadata": {},
   "source": [
    "# Count Flirty vs Non-Flirty Messages"
   ]
  },
  {
   "cell_type": "code",
   "execution_count": 16,
   "id": "6808d9db-e57e-474c-b69b-60863f649628",
   "metadata": {},
   "outputs": [
    {
     "data": {
      "text/html": [
       "<div>\n",
       "<style scoped>\n",
       "    .dataframe tbody tr th:only-of-type {\n",
       "        vertical-align: middle;\n",
       "    }\n",
       "\n",
       "    .dataframe tbody tr th {\n",
       "        vertical-align: top;\n",
       "    }\n",
       "\n",
       "    .dataframe thead th {\n",
       "        text-align: right;\n",
       "    }\n",
       "</style>\n",
       "<table border=\"1\" class=\"dataframe\">\n",
       "  <thead>\n",
       "    <tr style=\"text-align: right;\">\n",
       "      <th></th>\n",
       "      <th>Date</th>\n",
       "      <th>Time</th>\n",
       "      <th>Name</th>\n",
       "      <th>Message</th>\n",
       "      <th>Flirty</th>\n",
       "    </tr>\n",
       "  </thead>\n",
       "  <tbody>\n",
       "  </tbody>\n",
       "</table>\n",
       "</div>"
      ],
      "text/plain": [
       "Empty DataFrame\n",
       "Columns: [Date, Time, Name, Message, Flirty]\n",
       "Index: []"
      ]
     },
     "execution_count": 16,
     "metadata": {},
     "output_type": "execute_result"
    }
   ],
   "source": [
    "flirty_counts = df['Flirty'].value_counts()\n",
    "\n",
    "df.head()"
   ]
  },
  {
   "cell_type": "markdown",
   "id": "dec5a398-fabe-405f-9b48-439676709278",
   "metadata": {},
   "source": [
    "# Plot Flirty Message Distribution"
   ]
  },
  {
   "cell_type": "code",
   "execution_count": 17,
   "id": "c9133adc-470e-4b23-9574-c83fc7017045",
   "metadata": {},
   "outputs": [
    {
     "data": {
      "image/png": "[encoded data removed]",
      "text/plain": [
       "<Figure size 600x400 with 1 Axes>"
      ]
     },
     "metadata": {},
     "output_type": "display_data"
    }
   ],
   "source": [
    "plt.figure(figsize=(6, 4))\n",
    "sns.barplot(x=flirty_counts.index, y=flirty_counts.values, palette=['#1f77b4', '#d62728'])\n",
    "plt.xticks(ticks=[0, 1], labels=['Non-Flirty', 'Flirty'])\n",
    "plt.title('Flirty Message Detection')\n",
    "plt.xlabel('Message Type')\n",
    "plt.ylabel('Count')\n",
    "plt.show()"
   ]
  },
  {
   "cell_type": "markdown",
   "id": "d63affbb-0239-4cd6-a803-6c0d69f7c83f",
   "metadata": {},
   "source": [
    "# Display Only Flirty Messages"
   ]
  },
  {
   "cell_type": "code",
   "execution_count": 18,
   "id": "ee711c3a-3767-4a89-bb65-acf21260f792",
   "metadata": {},
   "outputs": [
    {
     "data": {
      "text/html": [
       "<div>\n",
       "<style scoped>\n",
       "    .dataframe tbody tr th:only-of-type {\n",
       "        vertical-align: middle;\n",
       "    }\n",
       "\n",
       "    .dataframe tbody tr th {\n",
       "        vertical-align: top;\n",
       "    }\n",
       "\n",
       "    .dataframe thead th {\n",
       "        text-align: right;\n",
       "    }\n",
       "</style>\n",
       "<table border=\"1\" class=\"dataframe\">\n",
       "  <thead>\n",
       "    <tr style=\"text-align: right;\">\n",
       "      <th></th>\n",
       "      <th>Name</th>\n",
       "      <th>Message</th>\n",
       "    </tr>\n",
       "  </thead>\n",
       "  <tbody>\n",
       "  </tbody>\n",
       "</table>\n",
       "</div>"
      ],
      "text/plain": [
       "Empty DataFrame\n",
       "Columns: [Name, Message]\n",
       "Index: []"
      ]
     },
     "execution_count": 18,
     "metadata": {},
     "output_type": "execute_result"
    }
   ],
   "source": [
    "flirty_messages = df[df['Flirty'] == True]\n",
    "flirty_messages[['Name', 'Message']].head(10)"
   ]
  },
  {
   "cell_type": "code",
   "execution_count": null,
   "id": "5bc65608-c1f4-419f-b739-8b7755b2c2be",
   "metadata": {},
   "outputs": [],
   "source": []
  }
 ],
 "metadata": {
  "kernelspec": {
   "display_name": "Python 3 (ipykernel)",
   "language": "python",
   "name": "python3"
  },
  "language_info": {
   "codemirror_mode": {
    "name": "ipython",
    "version": 3
   },
   "file_extension": ".py",
   "mimetype": "text/x-python",
   "name": "python",
   "nbconvert_exporter": "python",
   "pygments_lexer": "ipython3",
   "version": "3.9.19"
  }
 },
 "nbformat": 4,
 "nbformat_minor": 5
}
