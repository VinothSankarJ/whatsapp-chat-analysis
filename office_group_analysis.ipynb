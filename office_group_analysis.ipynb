{
 "cells": [
  {
   "cell_type": "code",
   "execution_count": 1,
   "id": "dedc1cce-8f6f-4761-93f7-22dcdffef22f",
   "metadata": {},
   "outputs": [],
   "source": [
    "import re\n",
    "import pandas as pd\n",
    "from collections import Counter\n",
    "from datetime import datetime\n",
    "from sklearn.feature_extraction.text import TfidfVectorizer\n",
    "from sklearn.model_selection import train_test_split\n",
    "from sklearn.naive_bayes import MultinomialNB\n",
    "from sklearn.pipeline import make_pipeline\n",
    "from sklearn.metrics import accuracy_score, classification_report"
   ]
  },
  {
   "cell_type": "code",
   "execution_count": 2,
   "id": "87ae8cd2-bbe6-41b5-8e84-7d38ab52e1e3",
   "metadata": {},
   "outputs": [],
   "source": [
    "def load_chat_data(filename):\n",
    "    with open(filename, 'r', encoding='utf-8') as file:\n",
    "        lines = file.readlines()\n",
    "    return lines\n",
    "\n",
    "def parse_messages(lines):\n",
    "    data = []\n",
    "    for line in lines:\n",
    "        match = re.match(r'^(\\d{1,2}/\\d{1,2}/\\d{2,4}), (\\d{1,2}:\\d{2} ?[APap][Mm]) - ([^:]+): (.*)', line)\n",
    "        if match:\n",
    "            date, time, user, message = match.groups()\n",
    "            data.append([date, time, user.strip(), message.strip()])\n",
    "    \n",
    "    df = pd.DataFrame(data, columns=['Date', 'Time', 'User', 'Message'])\n",
    "    df['Date'] = pd.to_datetime(df['Date'], format='%m/%d/%y', errors='coerce')\n",
    "    \n",
    "    return df"
   ]
  },
  {
   "cell_type": "code",
   "execution_count": 3,
   "id": "651fec28-9596-4fe0-8cc0-bbd4874ba678",
   "metadata": {},
   "outputs": [],
   "source": [
    "def get_message_counts(df):\n",
    "    return df.groupby('Date').size()"
   ]
  },
  {
   "cell_type": "code",
   "execution_count": 4,
   "id": "7c18fef3-e4aa-4d16-bcf7-dc3813acba96",
   "metadata": {},
   "outputs": [],
   "source": [
    "def get_most_talkative_users(df):\n",
    "    return df['User'].value_counts()"
   ]
  },
  {
   "cell_type": "code",
   "execution_count": 5,
   "id": "d552eb7e-aa42-40b3-942f-98a423a5af7c",
   "metadata": {},
   "outputs": [],
   "source": [
    "def analyze_activity(df):\n",
    "    df = df.dropna(subset=['Date'])  \n",
    "    if df.empty:\n",
    "        return None, None, 0  \n",
    "    \n",
    "    df['DayOfWeek'] = df['Date'].dt.day_name()\n",
    "    most_active_date = df['Date'].value_counts().idxmax()\n",
    "    most_active_day = df['DayOfWeek'].value_counts().idxmax()\n",
    "    avg_messages_per_day = df.groupby('Date').size().mean()\n",
    "    return most_active_date, most_active_day, avg_messages_per_day"
   ]
  },
  {
   "cell_type": "code",
   "execution_count": 6,
   "id": "a8264593-f043-450a-ae3c-9a33e9d5bd4c",
   "metadata": {},
   "outputs": [],
   "source": [
    "def media_statistics(df):\n",
    "    media_count = df['Message'].str.contains('<Media omitted>').sum()\n",
    "    deleted_count = df['Message'].str.contains('This message was deleted').sum()\n",
    "    missed_voice_calls = df['Message'].str.contains('Missed voice call').sum()\n",
    "    missed_video_calls = df['Message'].str.contains('Missed video call').sum()\n",
    "    return media_count, deleted_count, missed_voice_calls, missed_video_calls"
   ]
  },
  {
   "cell_type": "code",
   "execution_count": 7,
   "id": "6304ea7f-cb63-4142-8a02-dcdff69634aa",
   "metadata": {},
   "outputs": [],
   "source": [
    "def train_flirt_model(df, labeled_data):\n",
    "    if labeled_data.empty:\n",
    "        print(\"Insufficient labeled data for training.\")\n",
    "        return df\n",
    "    \n",
    "    vectorizer = TfidfVectorizer(stop_words='english')\n",
    "    X_train, X_test, y_train, y_test = train_test_split(labeled_data['Message'], labeled_data['Label'], test_size=0.2, random_state=42, stratify=labeled_data['Label'])\n",
    "    \n",
    "    model = make_pipeline(vectorizer, MultinomialNB())\n",
    "    model.fit(X_train, y_train)\n",
    "    predictions = model.predict(X_test)\n",
    "    \n",
    "    print(\"Model Accuracy:\", accuracy_score(y_test, predictions))\n",
    "    print(classification_report(y_test, predictions))\n",
    "    df['Flirt'] = model.predict(df['Message'])\n",
    "    return df\n"
   ]
  },
  {
   "cell_type": "code",
   "execution_count": 8,
   "id": "6ea0faa5-9024-4f16-8308-f4412fe6c524",
   "metadata": {},
   "outputs": [],
   "source": [
    "def flirt_statistics(df):\n",
    "    if 'Flirt' not in df.columns:\n",
    "        print(\"Flirt prediction not performed.\")\n",
    "        return pd.Series()\n",
    "    \n",
    "    flirt_counts = df[df['Flirt'] == 1]['User'].value_counts()\n",
    "    total_counts = df['User'].value_counts()\n",
    "    flirt_percentage = (flirt_counts / total_counts * 100).fillna(0)\n",
    "    return flirt_percentage"
   ]
  },
  {
   "cell_type": "code",
   "execution_count": 9,
   "id": "1373f4e8-1c34-4311-aaab-25ac8fb098a6",
   "metadata": {},
   "outputs": [
    {
     "name": "stdout",
     "output_type": "stream",
     "text": [
      "Date-wise Message Count:\n",
      " Date\n",
      "2023-09-17    72\n",
      "2023-09-18    19\n",
      "2023-09-19    64\n",
      "2023-09-20     1\n",
      "2023-09-22    22\n",
      "              ..\n",
      "2025-02-01    25\n",
      "2025-02-03     2\n",
      "2025-02-05     1\n",
      "2025-02-06    45\n",
      "2025-02-07     1\n",
      "Length: 249, dtype: int64\n",
      "Most Talkative Users:\n",
      " User\n",
      "Mukundan_CEO Vcare      283\n",
      "Preethi Clinic Vcare    228\n",
      "Kumar IT Vcare          205\n",
      "Vinoth Sankar           184\n",
      "Wasim Vcare Imports     155\n",
      "                       ... \n",
      "+91 93603 10822           1\n",
      "+91 73393 35564           1\n",
      "+91 90032 92429           1\n",
      "+91 89258 03279           1\n",
      "+91 80156 90056           1\n",
      "Name: count, Length: 175, dtype: int64\n",
      "Most Active Date: 2024-01-06 00:00:00, Most Active Day: Saturday, Avg Messages per Day: 24.17269076305221\n",
      "Media Stats - Media: 538, Deleted: 99, Missed Voice: 0, Missed Video: 0\n",
      "Model Accuracy: 0.5\n",
      "              precision    recall  f1-score   support\n",
      "\n",
      "           0       0.50      1.00      0.67         1\n",
      "           1       0.00      0.00      0.00         1\n",
      "\n",
      "    accuracy                           0.50         2\n",
      "   macro avg       0.25      0.50      0.33         2\n",
      "weighted avg       0.25      0.50      0.33         2\n",
      "\n",
      "Flirt Statistics:\n",
      " User\n",
      "+91 63697 77039         0.000000\n",
      "+91 63793 05912         0.000000\n",
      "+91 63794 58871         0.000000\n",
      "+91 63805 88698         0.000000\n",
      "+91 63817 52932         0.000000\n",
      "                          ...   \n",
      "Vijaya VCare RSM        0.000000\n",
      "Vinoth Sankar           2.173913\n",
      "Vishnu VCare IT Team    0.000000\n",
      "Vishnu VCare Systems    0.000000\n",
      "Wasim Vcare Imports     0.000000\n",
      "Name: count, Length: 175, dtype: float64\n"
     ]
    },
    {
     "name": "stderr",
     "output_type": "stream",
     "text": [
      "C:\\Users\\Lenovo\\anaconda3\\envs\\newenv\\lib\\site-packages\\sklearn\\metrics\\_classification.py:1565: UndefinedMetricWarning: Precision is ill-defined and being set to 0.0 in labels with no predicted samples. Use `zero_division` parameter to control this behavior.\n",
      "  _warn_prf(average, modifier, f\"{metric.capitalize()} is\", len(result))\n",
      "C:\\Users\\Lenovo\\anaconda3\\envs\\newenv\\lib\\site-packages\\sklearn\\metrics\\_classification.py:1565: UndefinedMetricWarning: Precision is ill-defined and being set to 0.0 in labels with no predicted samples. Use `zero_division` parameter to control this behavior.\n",
      "  _warn_prf(average, modifier, f\"{metric.capitalize()} is\", len(result))\n",
      "C:\\Users\\Lenovo\\anaconda3\\envs\\newenv\\lib\\site-packages\\sklearn\\metrics\\_classification.py:1565: UndefinedMetricWarning: Precision is ill-defined and being set to 0.0 in labels with no predicted samples. Use `zero_division` parameter to control this behavior.\n",
      "  _warn_prf(average, modifier, f\"{metric.capitalize()} is\", len(result))\n"
     ]
    }
   ],
   "source": [
    "filename = 'office_group.txt'\n",
    "chat_lines = load_chat_data(filename)\n",
    "df = parse_messages(chat_lines)\n",
    "print(\"Date-wise Message Count:\\n\", get_message_counts(df))\n",
    "print(\"Most Talkative Users:\\n\", get_most_talkative_users(df))\n",
    "most_active_date, most_active_day, avg_msgs = analyze_activity(df)\n",
    "print(f\"Most Active Date: {most_active_date}, Most Active Day: {most_active_day}, Avg Messages per Day: {avg_msgs}\")\n",
    "media_stats = media_statistics(df)\n",
    "print(f\"Media Stats - Media: {media_stats[0]}, Deleted: {media_stats[1]}, Missed Voice: {media_stats[2]}, Missed Video: {media_stats[3]}\")\n",
    "\n",
    "\n",
    "labeled_data = pd.DataFrame({\n",
    "    \"Message\": [\n",
    "        \"You have a beautiful smile 😍\",  # Flirt (1)\n",
    "        \"Good morning, team!\",  # Non-Flirt (0)\n",
    "        \"Let's meet for coffee 😉\",  # Flirt (1)\n",
    "        \"Please share the report.\",  # Non-Flirt (0)\n",
    "        \"I love your eyes ❤️\",  # Flirt (1)\n",
    "        \"The meeting is at 3 PM.\",  # Non-Flirt (0)\n",
    "        \"You're so charming 😊\",  # Flirt (1)\n",
    "        \"Send me the project file.\",  # Non-Flirt (0)\n",
    "    ],\n",
    "    \"Label\": [1, 0, 1, 0, 1, 0, 1, 0]\n",
    "})\n",
    "\n",
    "df = train_flirt_model(df, labeled_data)\n",
    "print(\"Flirt Statistics:\\n\", flirt_statistics(df))\n"
   ]
  }
 ],
 "metadata": {
  "kernelspec": {
   "display_name": "Python 3 (ipykernel)",
   "language": "python",
   "name": "python3"
  },
  "language_info": {
   "codemirror_mode": {
    "name": "ipython",
    "version": 3
   },
   "file_extension": ".py",
   "mimetype": "text/x-python",
   "name": "python",
   "nbconvert_exporter": "python",
   "pygments_lexer": "ipython3",
   "version": "3.9.19"
  }
 },
 "nbformat": 4,
 "nbformat_minor": 5
}
